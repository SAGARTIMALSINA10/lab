{
 "cells": [
  {
   "cell_type": "markdown",
   "id": "fbdb4a20-9c4e-4caf-8ef3-1a1223f5c337",
   "metadata": {},
   "source": [
    "# Assignment 1   \n",
    "**Name:** [Sagar timalsina]\n",
    "**Class:** [CPSMA-3933-01]  \n",
    "**Instructor:** [Nicholas Jacob]  \n",
    "**Date:** 1st September 2025  \n"
   ]
  },
  {
   "cell_type": "markdown",
   "id": "6c2fce86-7ea8-4a99-86be-8678f03b1a56",
   "metadata": {},
   "source": [
    "# 1"
   ]
  },
  {
   "cell_type": "code",
   "execution_count": 2,
   "id": "0cba6139-11b4-4e4b-a584-99567ff39987",
   "metadata": {},
   "outputs": [
    {
     "name": "stdout",
     "output_type": "stream",
     "text": [
      "hello friends\n"
     ]
    }
   ],
   "source": [
    "print(\"hello friends\")"
   ]
  },
  {
   "cell_type": "code",
   "execution_count": null,
   "id": "d81dcf1b-27fe-49d5-be2b-98bd5d16bde5",
   "metadata": {},
   "outputs": [],
   "source": []
  },
  {
   "cell_type": "markdown",
   "id": "43404dad-483b-47f0-8028-54d508cc70f9",
   "metadata": {},
   "source": [
    "## MY favorite function is Fibonacci \n",
    "## Where two number is always fixed 0 and 1 Fibonacci series where it review a\n",
    "## sequence derived from a larger sequence by selecting elements without ##changing their original order.\n",
    "## F(n) = F(n-1) + F(n-2) formula \n",
    "## for example  (5)\n",
    "## F(n-1) + F(n-2)\n",
    "## F(0)= 0\n",
    "## F(1)= 1\n",
    "## F(2)=F(1)+F(0)=1+0=1\n",
    "## F(3)=F(2)+F(1)=1+1=2\n",
    "## F(4)=F(3)+F(2)=2+1=3\n",
    "## F(5)=F(4)+F(3)=3+2=5\n",
    " "
   ]
  },
  {
   "cell_type": "code",
   "execution_count": 4,
   "id": "f88bd219-4b86-44a3-b8d7-88463eb0a222",
   "metadata": {
    "jupyter": {
     "source_hidden": true
    }
   },
   "outputs": [
    {
     "name": "stdout",
     "output_type": "stream",
     "text": [
      "Fibonacci(5): 5\n",
      "Fibonacci(10): 55\n",
      "Fibonacci(15): 610\n"
     ]
    }
   ],
   "source": [
    "def fibonacci(n):\n",
    "    \n",
    "    if n <= 0:\n",
    "        return 0\n",
    "    elif n == 1:\n",
    "        return 1\n",
    "    else:\n",
    "        return fibonacci(n-1) + fibonacci(n-2)\n",
    "\n",
    "print(\"Fibonacci(5):\", fibonacci(5))   # Output: 5\n",
    "print(\"Fibonacci(10):\", fibonacci(10)) # Output: 55\n",
    "print(\"Fibonacci(15):\", fibonacci(15)) # Output: 610"
   ]
  },
  {
   "cell_type": "markdown",
   "id": "b4ddd78b-094b-4f2e-92e8-9bbed478c22b",
   "metadata": {},
   "source": [
    "## Creating a list \n"
   ]
  },
  {
   "cell_type": "markdown",
   "id": "062f2a19-3644-4abe-88b7-1929457a2eea",
   "metadata": {},
   "source": [
    "# Creating a simple list of numbers\n",
    "\n",
    "print(\"create a simplelist/n\")\n",
    "\n",
    "# I'm making a list  from 1 to 10\n",
    "# Then adding a few more  numbers  15, 22, and 25\n",
    "my_list = [1, 2, 3, 4, 5, 6, 7, 8, 9, 10, 15, 22, 25]\n",
    "\n",
    "print(f\"The list: {my_list}\")\n",
    "print(f\"Number of elements: {len(my_list)}\\n\")\n",
    "\n",
    "# Computing the required values\n",
    "list_sum = sum(my_list)\n",
    "list_min = min(my_list)\n",
    "list_max = max(my_list)\n",
    "\n",
    "# For the \"one other value\", let's find the average (mean)\n",
    "average = list_sum / len(my_list)\n",
    "\n",
    "print(\"Results:\")\n",
    "print(f\"Sum: {list_sum}\")\n",
    "print(f\"Min: {list_min}\")\n",
    "print(f\"Max: {list_max}\")\n",
    "print(f\"Average: {average:.1f}\")"
   ]
  },
  {
   "cell_type": "code",
   "execution_count": null,
   "id": "d4f50c21-e0c5-4a20-9a03-6d27bc14e649",
   "metadata": {},
   "outputs": [],
   "source": []
  }
 ],
 "metadata": {
  "kernelspec": {
   "display_name": "anaconda-ai-2024.04-py310",
   "language": "python",
   "name": "conda-env-anaconda-ai-2024.04-py310-py"
  },
  "language_info": {
   "codemirror_mode": {
    "name": "ipython",
    "version": 3
   },
   "file_extension": ".py",
   "mimetype": "text/x-python",
   "name": "python",
   "nbconvert_exporter": "python",
   "pygments_lexer": "ipython3",
   "version": "3.10.13"
  }
 },
 "nbformat": 4,
 "nbformat_minor": 5
}
